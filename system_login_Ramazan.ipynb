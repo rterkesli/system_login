{
 "cells": [
  {
   "cell_type": "code",
   "execution_count": null,
   "metadata": {},
   "outputs": [],
   "source": [
    "while True:\n",
    "    query = input(\"Do you have an account? Please Y or N giriniz :  \" )\n",
    "    if query == \"N\":\n",
    "        print(\"-----Signup Section-----\")\n",
    "        while True:\n",
    "            username2= input(\"Input Username :\")\n",
    "            password2= input(\"Input Password :\")\n",
    "            confirm= input(\"Input Password Again :\")\n",
    "            if password2 == confirm:\n",
    "                print (\"Signup Successful...\")\n",
    "                break\n",
    "            else:\n",
    "                print(\"Confirmation password is not match, try again!\")\n",
    "       \n",
    "\n",
    "    elif query == \"Y\":\n",
    "        while True:\n",
    "            username= input(\"Input Username :\")\n",
    "            password= input(\"Input Password :\")\n",
    "            if username2!=username:\n",
    "                  print(\"username or password is wrong or not singup the website\")\n",
    "           \n",
    "            elif username == username2 and password==password2:\n",
    "                print(\"Hello there! This is my lovely homepage...\")\n",
    "                break\n",
    "           \n",
    "            else:\n",
    "                print(\"Information is wrong !!!\")\n",
    "                   \n",
    "    else:\n",
    "        print(\"Please Input Only Y or N\")\n",
    "        "
   ]
  }
 ],
 "metadata": {
  "kernelspec": {
   "display_name": "Python 3",
   "language": "python",
   "name": "python3"
  },
  "language_info": {
   "codemirror_mode": {
    "name": "ipython",
    "version": 3
   },
   "file_extension": ".py",
   "mimetype": "text/x-python",
   "name": "python",
   "nbconvert_exporter": "python",
   "pygments_lexer": "ipython3",
   "version": "3.7.3"
  }
 },
 "nbformat": 4,
 "nbformat_minor": 2
}
